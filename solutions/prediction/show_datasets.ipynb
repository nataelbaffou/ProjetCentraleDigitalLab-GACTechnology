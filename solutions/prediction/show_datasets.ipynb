{
 "cells": [
  {
   "cell_type": "code",
   "execution_count": 2,
   "metadata": {
    "collapsed": true
   },
   "outputs": [],
   "source": [
    "import pandas as pd\n",
    "import numpy as np\n",
    "import matplotlib.pyplot as plt\n",
    "\n",
    "import os\n",
    "import re"
   ]
  },
  {
   "cell_type": "code",
   "execution_count": 3,
   "outputs": [
    {
     "name": "stdout",
     "output_type": "stream",
     "text": [
      "Using matplotlib backend: MacOSX\n"
     ]
    }
   ],
   "source": [
    "%matplotlib"
   ],
   "metadata": {
    "collapsed": false,
    "pycharm": {
     "name": "#%%\n"
    }
   }
  },
  {
   "cell_type": "code",
   "execution_count": 4,
   "outputs": [],
   "source": [
    "# Load files\n",
    "def load_file(path):\n",
    "    return pd.read_csv(path, sep=\";\", header=0, infer_datetime_format=True, parse_dates=['timestamp'], index_col=['timestamp'])"
   ],
   "metadata": {
    "collapsed": false,
    "pycharm": {
     "name": "#%%\n"
    }
   }
  },
  {
   "cell_type": "code",
   "execution_count": 5,
   "outputs": [],
   "source": [
    "# Define dataset to import\n",
    "ignore_ids = [223, 45, 19, 105, 75, 63, 58, 59]\n",
    "directory = \"../data/processed/batiments/\"\n",
    "def get_selected_ids(selection_):\n",
    "    # Get ids\n",
    "    meta = pd.read_csv(directory+\"metadata.csv\", sep=';')\n",
    "    # Use selection\n",
    "    for select_ in selection_:\n",
    "        if select_.startswith(\"max_\"):\n",
    "            if selection_[select_] is not None:\n",
    "                col = select_[4:]\n",
    "                meta = meta[meta[col] <= selection_[select_]]\n",
    "        elif select_.startswith(\"min_\"):\n",
    "            if selection_[select_] is not None:\n",
    "                col = select_[4:]\n",
    "                meta = meta[meta[col] >= selection_[select_]]\n",
    "        elif select_.startswith(\"in_\"):\n",
    "            if selection_[select_]:\n",
    "                col = select_[3:]\n",
    "                meta = meta[meta[col].isin(selection_[select_])]\n",
    "        else:\n",
    "            col = select_\n",
    "            meta = meta[meta[col] == selection_[col]]\n",
    "    # Remove manual ids\n",
    "    meta = meta[~meta[\"bat_id\"].isin(ignore_ids)]\n",
    "    ids_ = meta[\"bat_id\"].values\n",
    "    return ids_\n",
    "\n",
    "def get_list_of_datasets(ids_):\n",
    "    list_of_datasets_ = []\n",
    "    list_of_ids_ = []\n",
    "    for filename_ in os.listdir(directory):\n",
    "        if re.fullmatch(\"^[0-9]+.csv\", filename_) and int(filename_[:filename_.find('.')]) in ids_:\n",
    "            list_of_datasets_.append(load_file(directory+filename_))\n",
    "            list_of_ids_.append(int(filename_[:filename_.find('.')]))\n",
    "    return list_of_datasets_, list_of_ids_"
   ],
   "metadata": {
    "collapsed": false,
    "pycharm": {
     "name": "#%%\n"
    }
   }
  },
  {
   "cell_type": "code",
   "execution_count": 6,
   "outputs": [
    {
     "name": "stdout",
     "output_type": "stream",
     "text": [
      "1\n"
     ]
    }
   ],
   "source": [
    "# name of the column with the value to match or put min_ or max_ before the column name to make a condition\n",
    "selection = {'time_step': 60,\n",
    "             'min_bat_id': None,\n",
    "             'max_bat_id': None,\n",
    "             'in_bat_id': [53]}\n",
    "ids = get_selected_ids(selection)\n",
    "list_of_datasets, list_of_ids = get_list_of_datasets(ids)\n",
    "\n",
    "\n",
    "print(len(list_of_datasets))\n",
    "for dataset, id_, real_id_ in zip(list_of_datasets, ids, list_of_ids):\n",
    "    plt.figure(str(id_) + \" - \" + str(real_id_))\n",
    "    plt.plot(dataset.index, dataset['active_power'].values)"
   ],
   "metadata": {
    "collapsed": false,
    "pycharm": {
     "name": "#%%\n"
    }
   }
  },
  {
   "cell_type": "code",
   "execution_count": null,
   "outputs": [],
   "source": [],
   "metadata": {
    "collapsed": false,
    "pycharm": {
     "name": "#%%\n"
    }
   }
  }
 ],
 "metadata": {
  "kernelspec": {
   "display_name": "Python 3",
   "language": "python",
   "name": "python3"
  },
  "language_info": {
   "codemirror_mode": {
    "name": "ipython",
    "version": 2
   },
   "file_extension": ".py",
   "mimetype": "text/x-python",
   "name": "python",
   "nbconvert_exporter": "python",
   "pygments_lexer": "ipython2",
   "version": "2.7.6"
  }
 },
 "nbformat": 4,
 "nbformat_minor": 0
}