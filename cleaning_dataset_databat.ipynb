{
 "cells": [
  {
   "cell_type": "markdown",
   "metadata": {},
   "source": [
    "# Data cleaning of the 145 buildings dataset"
   ]
  },
  {
   "cell_type": "code",
   "execution_count": null,
   "metadata": {},
   "outputs": [],
   "source": [
    "import numpy as np\n",
    "import pandas as pd\n",
    "import matplotlib.pyplot as plt\n",
    "import datetime\n",
    "import os\n",
    "from pathlib import Path"
   ]
  },
  {
   "cell_type": "code",
   "execution_count": null,
   "metadata": {},
   "outputs": [],
   "source": [
    "path_data = 'C:/Users/Orson/Documents/Digital_Lab/Projet_GAC/Datasets/'"
   ]
  },
  {
   "cell_type": "markdown",
   "metadata": {},
   "source": [
    "## Importing data"
   ]
  },
  {
   "cell_type": "code",
   "execution_count": null,
   "metadata": {},
   "outputs": [],
   "source": [
    "def dateparse (timestamp): \n",
    "    return datetime.datetime.strptime(timestamp,'%Y-%m-%dT%H:%M:%S%z')"
   ]
  },
  {
   "cell_type": "code",
   "execution_count": 33,
   "metadata": {
    "scrolled": false
   },
   "outputs": [],
   "source": [
    "data = pd.read_csv(path_data+'databat/daily_conso.csv',sep=',',\n",
    "                        parse_dates=['timestamp'],\n",
    "                        date_parser = dateparse)\n",
    "data['timestamp'] = data['timestamp'].apply(lambda x: x.replace(tzinfo=None))"
   ]
  },
  {
   "cell_type": "code",
   "execution_count": 34,
   "metadata": {
    "scrolled": false
   },
   "outputs": [
    {
     "data": {
      "text/html": [
       "<div>\n",
       "<style scoped>\n",
       "    .dataframe tbody tr th:only-of-type {\n",
       "        vertical-align: middle;\n",
       "    }\n",
       "\n",
       "    .dataframe tbody tr th {\n",
       "        vertical-align: top;\n",
       "    }\n",
       "\n",
       "    .dataframe thead th {\n",
       "        text-align: right;\n",
       "    }\n",
       "</style>\n",
       "<table border=\"1\" class=\"dataframe\">\n",
       "  <thead>\n",
       "    <tr style=\"text-align: right;\">\n",
       "      <th></th>\n",
       "      <th>id</th>\n",
       "      <th>departement</th>\n",
       "      <th>surface</th>\n",
       "      <th>quantite_personne</th>\n",
       "      <th>date_construction</th>\n",
       "      <th>type_chauff_premier</th>\n",
       "      <th>type_chauff_secondaire</th>\n",
       "      <th>type_chauff_auxiliaire</th>\n",
       "      <th>timestamp</th>\n",
       "      <th>consumption</th>\n",
       "    </tr>\n",
       "  </thead>\n",
       "  <tbody>\n",
       "    <tr>\n",
       "      <th>0</th>\n",
       "      <td>1</td>\n",
       "      <td>85</td>\n",
       "      <td>160.0</td>\n",
       "      <td>6</td>\n",
       "      <td>entre 1971 et 1990</td>\n",
       "      <td>électrique</td>\n",
       "      <td>bois</td>\n",
       "      <td>bois</td>\n",
       "      <td>2015-11-30</td>\n",
       "      <td>26585.0</td>\n",
       "    </tr>\n",
       "    <tr>\n",
       "      <th>1</th>\n",
       "      <td>1</td>\n",
       "      <td>85</td>\n",
       "      <td>160.0</td>\n",
       "      <td>6</td>\n",
       "      <td>entre 1971 et 1990</td>\n",
       "      <td>électrique</td>\n",
       "      <td>bois</td>\n",
       "      <td>bois</td>\n",
       "      <td>2015-12-01</td>\n",
       "      <td>20115.0</td>\n",
       "    </tr>\n",
       "    <tr>\n",
       "      <th>2</th>\n",
       "      <td>1</td>\n",
       "      <td>85</td>\n",
       "      <td>160.0</td>\n",
       "      <td>6</td>\n",
       "      <td>entre 1971 et 1990</td>\n",
       "      <td>électrique</td>\n",
       "      <td>bois</td>\n",
       "      <td>bois</td>\n",
       "      <td>2015-12-02</td>\n",
       "      <td>30985.0</td>\n",
       "    </tr>\n",
       "    <tr>\n",
       "      <th>3</th>\n",
       "      <td>1</td>\n",
       "      <td>85</td>\n",
       "      <td>160.0</td>\n",
       "      <td>6</td>\n",
       "      <td>entre 1971 et 1990</td>\n",
       "      <td>électrique</td>\n",
       "      <td>bois</td>\n",
       "      <td>bois</td>\n",
       "      <td>2015-12-03</td>\n",
       "      <td>29985.0</td>\n",
       "    </tr>\n",
       "    <tr>\n",
       "      <th>4</th>\n",
       "      <td>1</td>\n",
       "      <td>85</td>\n",
       "      <td>160.0</td>\n",
       "      <td>6</td>\n",
       "      <td>entre 1971 et 1990</td>\n",
       "      <td>électrique</td>\n",
       "      <td>bois</td>\n",
       "      <td>bois</td>\n",
       "      <td>2015-12-04</td>\n",
       "      <td>21232.5</td>\n",
       "    </tr>\n",
       "  </tbody>\n",
       "</table>\n",
       "</div>"
      ],
      "text/plain": [
       "   id  departement  surface  quantite_personne   date_construction  \\\n",
       "0   1           85    160.0                  6  entre 1971 et 1990   \n",
       "1   1           85    160.0                  6  entre 1971 et 1990   \n",
       "2   1           85    160.0                  6  entre 1971 et 1990   \n",
       "3   1           85    160.0                  6  entre 1971 et 1990   \n",
       "4   1           85    160.0                  6  entre 1971 et 1990   \n",
       "\n",
       "  type_chauff_premier type_chauff_secondaire type_chauff_auxiliaire  \\\n",
       "0          électrique                   bois                   bois   \n",
       "1          électrique                   bois                   bois   \n",
       "2          électrique                   bois                   bois   \n",
       "3          électrique                   bois                   bois   \n",
       "4          électrique                   bois                   bois   \n",
       "\n",
       "   timestamp  consumption  \n",
       "0 2015-11-30      26585.0  \n",
       "1 2015-12-01      20115.0  \n",
       "2 2015-12-02      30985.0  \n",
       "3 2015-12-03      29985.0  \n",
       "4 2015-12-04      21232.5  "
      ]
     },
     "execution_count": 34,
     "metadata": {},
     "output_type": "execute_result"
    }
   ],
   "source": [
    "data.head()"
   ]
  },
  {
   "cell_type": "markdown",
   "metadata": {},
   "source": [
    "## Creating metadata file"
   ]
  },
  {
   "cell_type": "code",
   "execution_count": 36,
   "metadata": {},
   "outputs": [],
   "source": [
    "metadata2000 = data[['id','surface']].groupby(['id','surface']).count().reset_index().rename(columns={'id':'bat_id'})\n",
    "\n",
    "series_columns = pd.Series({'is_house':True,\n",
    "                              'time_step': 1440,\n",
    "                              'lat':np.nan,\n",
    "                              'long':np.nan,\n",
    "                              'monday_is_off':np.nan,\n",
    "                              'tuesday_is_off':np.nan,\n",
    "                              'wednesday_is_off':np.nan,\n",
    "                              'thursday_is_off':np.nan,\n",
    "                              'friday_is_off':np.nan,\n",
    "                              'saturday_is_off':np.nan,\n",
    "                              'sunday_is_off':np.nan})\n",
    "for i in range(4):\n",
    "    metadata2000.insert(i+1,series_columns.index[i],series_columns[i])\n",
    "for i in range(4, 11):\n",
    "    metadata2000.insert(i+2,series_columns.index[i],series_columns[i])\n",
    "\n",
    "metadata2000['bat_id'] = pd.Series([2000+i for i in range(1,max(metadata2000['bat_id'])+1)])\n",
    "metadata2000 = metadata2000.set_index('bat_id')    "
   ]
  },
  {
   "cell_type": "code",
   "execution_count": 37,
   "metadata": {},
   "outputs": [],
   "source": [
    "metadata2000.to_csv(path_data+'databat/metadata2000.csv',sep=';')"
   ]
  },
  {
   "cell_type": "markdown",
   "metadata": {},
   "source": [
    "## Creating each building consumption file"
   ]
  },
  {
   "cell_type": "markdown",
   "metadata": {},
   "source": [
    "###  Finding temperatures"
   ]
  },
  {
   "cell_type": "code",
   "execution_count": 6,
   "metadata": {},
   "outputs": [],
   "source": [
    "df_stations = pd.read_csv(path_data + 'stations.csv',sep=';')[['ID','Latitude','Longitude']]\\\n",
    "                    .rename(columns={'ID':'station_id','Latitude':'lat','Longitude':'long'})"
   ]
  },
  {
   "cell_type": "code",
   "execution_count": 7,
   "metadata": {
    "scrolled": true
   },
   "outputs": [
    {
     "data": {
      "text/html": [
       "<div>\n",
       "<style scoped>\n",
       "    .dataframe tbody tr th:only-of-type {\n",
       "        vertical-align: middle;\n",
       "    }\n",
       "\n",
       "    .dataframe tbody tr th {\n",
       "        vertical-align: top;\n",
       "    }\n",
       "\n",
       "    .dataframe thead th {\n",
       "        text-align: right;\n",
       "    }\n",
       "</style>\n",
       "<table border=\"1\" class=\"dataframe\">\n",
       "  <thead>\n",
       "    <tr style=\"text-align: right;\">\n",
       "      <th></th>\n",
       "      <th>station_id</th>\n",
       "      <th>lat</th>\n",
       "      <th>long</th>\n",
       "    </tr>\n",
       "  </thead>\n",
       "  <tbody>\n",
       "    <tr>\n",
       "      <th>0</th>\n",
       "      <td>7005</td>\n",
       "      <td>50.136000</td>\n",
       "      <td>1.834000</td>\n",
       "    </tr>\n",
       "    <tr>\n",
       "      <th>1</th>\n",
       "      <td>7015</td>\n",
       "      <td>50.570000</td>\n",
       "      <td>3.097500</td>\n",
       "    </tr>\n",
       "    <tr>\n",
       "      <th>2</th>\n",
       "      <td>7020</td>\n",
       "      <td>49.725167</td>\n",
       "      <td>-1.939833</td>\n",
       "    </tr>\n",
       "    <tr>\n",
       "      <th>3</th>\n",
       "      <td>7027</td>\n",
       "      <td>49.180000</td>\n",
       "      <td>-0.456167</td>\n",
       "    </tr>\n",
       "    <tr>\n",
       "      <th>4</th>\n",
       "      <td>7037</td>\n",
       "      <td>49.383000</td>\n",
       "      <td>1.181667</td>\n",
       "    </tr>\n",
       "  </tbody>\n",
       "</table>\n",
       "</div>"
      ],
      "text/plain": [
       "   station_id        lat      long\n",
       "0        7005  50.136000  1.834000\n",
       "1        7015  50.570000  3.097500\n",
       "2        7020  49.725167 -1.939833\n",
       "3        7027  49.180000 -0.456167\n",
       "4        7037  49.383000  1.181667"
      ]
     },
     "execution_count": 7,
     "metadata": {},
     "output_type": "execute_result"
    }
   ],
   "source": [
    "df_stations.head()"
   ]
  },
  {
   "cell_type": "code",
   "execution_count": 8,
   "metadata": {},
   "outputs": [],
   "source": [
    "df_departements = pd.read_csv(path_data +'centres.csv',sep=',')"
   ]
  },
  {
   "cell_type": "code",
   "execution_count": 9,
   "metadata": {},
   "outputs": [],
   "source": [
    "from lat_lon_parser import parse\n",
    "\n",
    "df_centres = df_departements[['N° ','LONGITUDE ','LATITUDE ']]\\\n",
    "                .rename(columns={'N° ':'departement','LONGITUDE ':'long','LATITUDE ':'lat'})\\\n",
    "                .reindex(columns=['departement','lat','long'])\\\n",
    "                .set_index('departement')\n",
    "\n",
    "\n",
    "df_centres['lat'] = df_centres['lat'].apply(lambda x: parse(x))\n",
    "df_centres['long'] = df_centres['long'].apply(lambda x: parse(x))"
   ]
  },
  {
   "cell_type": "code",
   "execution_count": 10,
   "metadata": {},
   "outputs": [
    {
     "data": {
      "text/html": [
       "<div>\n",
       "<style scoped>\n",
       "    .dataframe tbody tr th:only-of-type {\n",
       "        vertical-align: middle;\n",
       "    }\n",
       "\n",
       "    .dataframe tbody tr th {\n",
       "        vertical-align: top;\n",
       "    }\n",
       "\n",
       "    .dataframe thead th {\n",
       "        text-align: right;\n",
       "    }\n",
       "</style>\n",
       "<table border=\"1\" class=\"dataframe\">\n",
       "  <thead>\n",
       "    <tr style=\"text-align: right;\">\n",
       "      <th></th>\n",
       "      <th>lat</th>\n",
       "      <th>long</th>\n",
       "    </tr>\n",
       "    <tr>\n",
       "      <th>departement</th>\n",
       "      <th></th>\n",
       "      <th></th>\n",
       "    </tr>\n",
       "  </thead>\n",
       "  <tbody>\n",
       "    <tr>\n",
       "      <th>01</th>\n",
       "      <td>46.099444</td>\n",
       "      <td>5.348889</td>\n",
       "    </tr>\n",
       "    <tr>\n",
       "      <th>02</th>\n",
       "      <td>49.559444</td>\n",
       "      <td>3.558333</td>\n",
       "    </tr>\n",
       "    <tr>\n",
       "      <th>03</th>\n",
       "      <td>46.393611</td>\n",
       "      <td>3.188333</td>\n",
       "    </tr>\n",
       "    <tr>\n",
       "      <th>04</th>\n",
       "      <td>44.106111</td>\n",
       "      <td>6.243889</td>\n",
       "    </tr>\n",
       "    <tr>\n",
       "      <th>05</th>\n",
       "      <td>44.663611</td>\n",
       "      <td>6.263056</td>\n",
       "    </tr>\n",
       "  </tbody>\n",
       "</table>\n",
       "</div>"
      ],
      "text/plain": [
       "                   lat      long\n",
       "departement                     \n",
       "01           46.099444  5.348889\n",
       "02           49.559444  3.558333\n",
       "03           46.393611  3.188333\n",
       "04           44.106111  6.243889\n",
       "05           44.663611  6.263056"
      ]
     },
     "execution_count": 10,
     "metadata": {},
     "output_type": "execute_result"
    }
   ],
   "source": [
    "df_centres.head()"
   ]
  },
  {
   "cell_type": "code",
   "execution_count": 11,
   "metadata": {},
   "outputs": [],
   "source": [
    "from math import radians, cos, sin, asin, sqrt\n",
    "\n",
    "def haversine(lon1, lat1, lon2, lat2):\n",
    "    \"\"\"\n",
    "    Calculate the great circle distance between two points \n",
    "    on the earth (specified in decimal degrees)\n",
    "    \"\"\"\n",
    "    # convert decimal degrees to radians \n",
    "    lon1, lat1, lon2, lat2 = map(radians, [lon1, lat1, lon2, lat2])\n",
    "    # haversine formula \n",
    "    dlon = lon2 - lon1 \n",
    "    dlat = lat2 - lat1 \n",
    "    a = sin(dlat/2)**2 + cos(lat1) * cos(lat2) * sin(dlon/2)**2\n",
    "    c = 2 * asin(sqrt(a)) \n",
    "    # Radius of earth in kilometers is 6371\n",
    "    km = 6371* c\n",
    "    return km"
   ]
  },
  {
   "cell_type": "code",
   "execution_count": 12,
   "metadata": {},
   "outputs": [],
   "source": [
    "def min_distance(x):\n",
    "    return df_stations['station_id'][\\\n",
    "                             np.argmin(\\\n",
    "                     [haversine(x['long'],x['lat'],df_stations['long'][i],df_stations['lat'][i])\\\n",
    "                      for i in range(len(df_stations))]\n",
    "                                      )\n",
    "                            ]"
   ]
  },
  {
   "cell_type": "code",
   "execution_count": 13,
   "metadata": {
    "scrolled": true
   },
   "outputs": [],
   "source": [
    "stations_series = df_centres.apply(lambda x: min_distance(x),axis=1)\n",
    "df_stations_dep = pd.DataFrame({'departement':stations_series.index,'station_id':stations_series.values})\n",
    "df_stations_dep = df_stations_dep.drop(\\\n",
    "                                       df_stations_dep[df_stations_dep['departement'] == '2A '].index)\n",
    "df_stations_dep = df_stations_dep.drop(\\\n",
    "                                       df_stations_dep[df_stations_dep['departement'] == '2B '].index)\n",
    "df_stations_dep['departement'] = df_stations_dep['departement'].apply(lambda x: int(x))\n",
    "df_stations_dep = df_stations_dep.set_index('departement')"
   ]
  },
  {
   "cell_type": "code",
   "execution_count": 14,
   "metadata": {},
   "outputs": [],
   "source": [
    "df = data[['id','departement','timestamp','consumption']].rename(columns={'id':'bat_id','consumption':'active_power'})\n",
    "df = df.join(df_stations_dep,on='departement')"
   ]
  },
  {
   "cell_type": "code",
   "execution_count": 15,
   "metadata": {
    "scrolled": true
   },
   "outputs": [],
   "source": [
    "stations = df['station_id'].values"
   ]
  },
  {
   "cell_type": "code",
   "execution_count": 16,
   "metadata": {},
   "outputs": [],
   "source": [
    "list_filenames = []\n",
    "for filename in os.listdir(path_data+'temperature_datetimes'):\n",
    "    list_filenames.append(filename)"
   ]
  },
  {
   "cell_type": "code",
   "execution_count": 17,
   "metadata": {},
   "outputs": [],
   "source": [
    "def dateparse_2 (timestamp): \n",
    "    return datetime.datetime.strptime(timestamp,'%d/%m/%Y %H:%M:%S')"
   ]
  },
  {
   "cell_type": "code",
   "execution_count": 18,
   "metadata": {},
   "outputs": [],
   "source": [
    "df_temperatures = pd.DataFrame(columns=['station_id','timestamp','temperature'])\n",
    "for filename in list_filenames:\n",
    "    df_temp = pd.read_csv(path_data+'temperature_datetimes/'+filename,sep=';',parse_dates=['date'],na_values='mq')\n",
    "    df_temp = df_temp[df_temp['numer_sta'].isin(stations)][['numer_sta','date','t']]\n",
    "    df_temp = df_temp.rename(columns={'numer_sta':'station_id','t':'temperature','date':'timestamp'})\n",
    "    df_temperatures = df_temperatures.append(df_temp,ignore_index=True)\n",
    "\n",
    "df_temperatures = df_temperatures.sort_values(by=['station_id','timestamp'])\n",
    "df_temperatures['temperature'] = df_temperatures['temperature'].apply(lambda x: x-273.15)\n",
    "df_temperatures['station_id'] = pd.to_numeric(df_temperatures['station_id'])"
   ]
  },
  {
   "cell_type": "code",
   "execution_count": 19,
   "metadata": {},
   "outputs": [],
   "source": [
    "df_temperatures['timestamp'] = df_temperatures['timestamp'].apply(lambda x: datetime.datetime(year=x.year, month=x.month, day=x.day))"
   ]
  },
  {
   "cell_type": "code",
   "execution_count": 20,
   "metadata": {},
   "outputs": [],
   "source": [
    "df_temperatures = df_temperatures.groupby(['station_id','timestamp']).mean().reset_index()"
   ]
  },
  {
   "cell_type": "code",
   "execution_count": 21,
   "metadata": {},
   "outputs": [],
   "source": [
    "df_merge = pd.merge(df,df_temperatures,\n",
    "                how='inner',\n",
    "                left_on=['station_id','timestamp'],\n",
    "                right_on=['station_id','timestamp'])\n",
    "df_merge = df_merge.sort_values(['bat_id','timestamp'])"
   ]
  },
  {
   "cell_type": "markdown",
   "metadata": {},
   "source": [
    "### Missing temperatures"
   ]
  },
  {
   "cell_type": "code",
   "execution_count": 22,
   "metadata": {},
   "outputs": [
    {
     "data": {
      "text/html": [
       "<div>\n",
       "<style scoped>\n",
       "    .dataframe tbody tr th:only-of-type {\n",
       "        vertical-align: middle;\n",
       "    }\n",
       "\n",
       "    .dataframe tbody tr th {\n",
       "        vertical-align: top;\n",
       "    }\n",
       "\n",
       "    .dataframe thead th {\n",
       "        text-align: right;\n",
       "    }\n",
       "</style>\n",
       "<table border=\"1\" class=\"dataframe\">\n",
       "  <thead>\n",
       "    <tr style=\"text-align: right;\">\n",
       "      <th></th>\n",
       "      <th>bat_id</th>\n",
       "      <th>departement</th>\n",
       "      <th>timestamp</th>\n",
       "      <th>active_power</th>\n",
       "      <th>station_id</th>\n",
       "      <th>temperature</th>\n",
       "    </tr>\n",
       "  </thead>\n",
       "  <tbody>\n",
       "    <tr>\n",
       "      <th>24436</th>\n",
       "      <td>16</td>\n",
       "      <td>2</td>\n",
       "      <td>2017-12-13</td>\n",
       "      <td>16400.0</td>\n",
       "      <td>7072</td>\n",
       "      <td>NaN</td>\n",
       "    </tr>\n",
       "    <tr>\n",
       "      <th>37117</th>\n",
       "      <td>40</td>\n",
       "      <td>11</td>\n",
       "      <td>2019-07-27</td>\n",
       "      <td>16903.0</td>\n",
       "      <td>7747</td>\n",
       "      <td>NaN</td>\n",
       "    </tr>\n",
       "    <tr>\n",
       "      <th>37118</th>\n",
       "      <td>40</td>\n",
       "      <td>11</td>\n",
       "      <td>2019-07-28</td>\n",
       "      <td>14450.0</td>\n",
       "      <td>7747</td>\n",
       "      <td>NaN</td>\n",
       "    </tr>\n",
       "    <tr>\n",
       "      <th>37139</th>\n",
       "      <td>40</td>\n",
       "      <td>11</td>\n",
       "      <td>2019-08-18</td>\n",
       "      <td>18697.0</td>\n",
       "      <td>7747</td>\n",
       "      <td>NaN</td>\n",
       "    </tr>\n",
       "    <tr>\n",
       "      <th>37540</th>\n",
       "      <td>42</td>\n",
       "      <td>83</td>\n",
       "      <td>2019-09-11</td>\n",
       "      <td>10675.0</td>\n",
       "      <td>7661</td>\n",
       "      <td>NaN</td>\n",
       "    </tr>\n",
       "    <tr>\n",
       "      <th>37583</th>\n",
       "      <td>42</td>\n",
       "      <td>83</td>\n",
       "      <td>2019-10-24</td>\n",
       "      <td>13117.0</td>\n",
       "      <td>7661</td>\n",
       "      <td>NaN</td>\n",
       "    </tr>\n",
       "  </tbody>\n",
       "</table>\n",
       "</div>"
      ],
      "text/plain": [
       "       bat_id  departement  timestamp  active_power  station_id  temperature\n",
       "24436      16            2 2017-12-13       16400.0        7072          NaN\n",
       "37117      40           11 2019-07-27       16903.0        7747          NaN\n",
       "37118      40           11 2019-07-28       14450.0        7747          NaN\n",
       "37139      40           11 2019-08-18       18697.0        7747          NaN\n",
       "37540      42           83 2019-09-11       10675.0        7661          NaN\n",
       "37583      42           83 2019-10-24       13117.0        7661          NaN"
      ]
     },
     "execution_count": 22,
     "metadata": {},
     "output_type": "execute_result"
    }
   ],
   "source": [
    "df_merge[df_merge['temperature'].isnull()]"
   ]
  },
  {
   "cell_type": "code",
   "execution_count": 23,
   "metadata": {},
   "outputs": [],
   "source": [
    "temp = pd.merge(df,df_temperatures,\n",
    "                how='outer',\n",
    "                left_on=['station_id','timestamp'],\n",
    "                right_on=['station_id','timestamp'])"
   ]
  },
  {
   "cell_type": "code",
   "execution_count": 24,
   "metadata": {},
   "outputs": [
    {
     "data": {
      "text/html": [
       "<div>\n",
       "<style scoped>\n",
       "    .dataframe tbody tr th:only-of-type {\n",
       "        vertical-align: middle;\n",
       "    }\n",
       "\n",
       "    .dataframe tbody tr th {\n",
       "        vertical-align: top;\n",
       "    }\n",
       "\n",
       "    .dataframe thead th {\n",
       "        text-align: right;\n",
       "    }\n",
       "</style>\n",
       "<table border=\"1\" class=\"dataframe\">\n",
       "  <thead>\n",
       "    <tr style=\"text-align: right;\">\n",
       "      <th></th>\n",
       "      <th>bat_id</th>\n",
       "      <th>departement</th>\n",
       "      <th>timestamp</th>\n",
       "      <th>active_power</th>\n",
       "      <th>station_id</th>\n",
       "      <th>temperature</th>\n",
       "    </tr>\n",
       "  </thead>\n",
       "  <tbody>\n",
       "    <tr>\n",
       "      <th>8539</th>\n",
       "      <td>7.0</td>\n",
       "      <td>67.0</td>\n",
       "      <td>2016-08-15</td>\n",
       "      <td>21926.0</td>\n",
       "      <td>7190</td>\n",
       "      <td>NaN</td>\n",
       "    </tr>\n",
       "    <tr>\n",
       "      <th>24437</th>\n",
       "      <td>16.0</td>\n",
       "      <td>2.0</td>\n",
       "      <td>2017-12-13</td>\n",
       "      <td>16400.0</td>\n",
       "      <td>7072</td>\n",
       "      <td>NaN</td>\n",
       "    </tr>\n",
       "    <tr>\n",
       "      <th>37118</th>\n",
       "      <td>40.0</td>\n",
       "      <td>11.0</td>\n",
       "      <td>2019-07-27</td>\n",
       "      <td>16903.0</td>\n",
       "      <td>7747</td>\n",
       "      <td>NaN</td>\n",
       "    </tr>\n",
       "    <tr>\n",
       "      <th>37119</th>\n",
       "      <td>40.0</td>\n",
       "      <td>11.0</td>\n",
       "      <td>2019-07-28</td>\n",
       "      <td>14450.0</td>\n",
       "      <td>7747</td>\n",
       "      <td>NaN</td>\n",
       "    </tr>\n",
       "    <tr>\n",
       "      <th>37140</th>\n",
       "      <td>40.0</td>\n",
       "      <td>11.0</td>\n",
       "      <td>2019-08-18</td>\n",
       "      <td>18697.0</td>\n",
       "      <td>7747</td>\n",
       "      <td>NaN</td>\n",
       "    </tr>\n",
       "    <tr>\n",
       "      <th>37541</th>\n",
       "      <td>42.0</td>\n",
       "      <td>83.0</td>\n",
       "      <td>2019-09-11</td>\n",
       "      <td>10675.0</td>\n",
       "      <td>7661</td>\n",
       "      <td>NaN</td>\n",
       "    </tr>\n",
       "    <tr>\n",
       "      <th>37584</th>\n",
       "      <td>42.0</td>\n",
       "      <td>83.0</td>\n",
       "      <td>2019-10-24</td>\n",
       "      <td>13117.0</td>\n",
       "      <td>7661</td>\n",
       "      <td>NaN</td>\n",
       "    </tr>\n",
       "    <tr>\n",
       "      <th>48128</th>\n",
       "      <td>63.0</td>\n",
       "      <td>12.0</td>\n",
       "      <td>2019-07-09</td>\n",
       "      <td>12077.0</td>\n",
       "      <td>7558</td>\n",
       "      <td>NaN</td>\n",
       "    </tr>\n",
       "    <tr>\n",
       "      <th>48129</th>\n",
       "      <td>63.0</td>\n",
       "      <td>12.0</td>\n",
       "      <td>2019-07-10</td>\n",
       "      <td>11014.0</td>\n",
       "      <td>7558</td>\n",
       "      <td>NaN</td>\n",
       "    </tr>\n",
       "    <tr>\n",
       "      <th>48130</th>\n",
       "      <td>63.0</td>\n",
       "      <td>12.0</td>\n",
       "      <td>2019-07-11</td>\n",
       "      <td>11544.0</td>\n",
       "      <td>7558</td>\n",
       "      <td>NaN</td>\n",
       "    </tr>\n",
       "    <tr>\n",
       "      <th>48131</th>\n",
       "      <td>63.0</td>\n",
       "      <td>12.0</td>\n",
       "      <td>2019-07-12</td>\n",
       "      <td>10615.0</td>\n",
       "      <td>7558</td>\n",
       "      <td>NaN</td>\n",
       "    </tr>\n",
       "    <tr>\n",
       "      <th>48132</th>\n",
       "      <td>63.0</td>\n",
       "      <td>12.0</td>\n",
       "      <td>2019-07-13</td>\n",
       "      <td>11620.0</td>\n",
       "      <td>7558</td>\n",
       "      <td>NaN</td>\n",
       "    </tr>\n",
       "    <tr>\n",
       "      <th>48133</th>\n",
       "      <td>63.0</td>\n",
       "      <td>12.0</td>\n",
       "      <td>2019-07-14</td>\n",
       "      <td>13199.0</td>\n",
       "      <td>7558</td>\n",
       "      <td>NaN</td>\n",
       "    </tr>\n",
       "  </tbody>\n",
       "</table>\n",
       "</div>"
      ],
      "text/plain": [
       "       bat_id  departement  timestamp  active_power  station_id  temperature\n",
       "8539      7.0         67.0 2016-08-15       21926.0        7190          NaN\n",
       "24437    16.0          2.0 2017-12-13       16400.0        7072          NaN\n",
       "37118    40.0         11.0 2019-07-27       16903.0        7747          NaN\n",
       "37119    40.0         11.0 2019-07-28       14450.0        7747          NaN\n",
       "37140    40.0         11.0 2019-08-18       18697.0        7747          NaN\n",
       "37541    42.0         83.0 2019-09-11       10675.0        7661          NaN\n",
       "37584    42.0         83.0 2019-10-24       13117.0        7661          NaN\n",
       "48128    63.0         12.0 2019-07-09       12077.0        7558          NaN\n",
       "48129    63.0         12.0 2019-07-10       11014.0        7558          NaN\n",
       "48130    63.0         12.0 2019-07-11       11544.0        7558          NaN\n",
       "48131    63.0         12.0 2019-07-12       10615.0        7558          NaN\n",
       "48132    63.0         12.0 2019-07-13       11620.0        7558          NaN\n",
       "48133    63.0         12.0 2019-07-14       13199.0        7558          NaN"
      ]
     },
     "execution_count": 24,
     "metadata": {},
     "output_type": "execute_result"
    }
   ],
   "source": [
    "temp[temp['temperature'].isnull() == True].dropna(subset=['bat_id'])"
   ]
  },
  {
   "cell_type": "markdown",
   "metadata": {},
   "source": [
    "### Saving files"
   ]
  },
  {
   "cell_type": "code",
   "execution_count": 27,
   "metadata": {},
   "outputs": [],
   "source": [
    "df_final = df_merge[['bat_id','timestamp','active_power','temperature']]"
   ]
  },
  {
   "cell_type": "code",
   "execution_count": 28,
   "metadata": {
    "scrolled": true
   },
   "outputs": [
    {
     "data": {
      "text/html": [
       "<div>\n",
       "<style scoped>\n",
       "    .dataframe tbody tr th:only-of-type {\n",
       "        vertical-align: middle;\n",
       "    }\n",
       "\n",
       "    .dataframe tbody tr th {\n",
       "        vertical-align: top;\n",
       "    }\n",
       "\n",
       "    .dataframe thead th {\n",
       "        text-align: right;\n",
       "    }\n",
       "</style>\n",
       "<table border=\"1\" class=\"dataframe\">\n",
       "  <thead>\n",
       "    <tr style=\"text-align: right;\">\n",
       "      <th></th>\n",
       "      <th>bat_id</th>\n",
       "      <th>timestamp</th>\n",
       "      <th>active_power</th>\n",
       "      <th>temperature</th>\n",
       "    </tr>\n",
       "  </thead>\n",
       "  <tbody>\n",
       "    <tr>\n",
       "      <th>0</th>\n",
       "      <td>1</td>\n",
       "      <td>2015-11-30</td>\n",
       "      <td>26585.0</td>\n",
       "      <td>11.6000</td>\n",
       "    </tr>\n",
       "    <tr>\n",
       "      <th>2</th>\n",
       "      <td>1</td>\n",
       "      <td>2015-12-01</td>\n",
       "      <td>20115.0</td>\n",
       "      <td>10.9500</td>\n",
       "    </tr>\n",
       "    <tr>\n",
       "      <th>4</th>\n",
       "      <td>1</td>\n",
       "      <td>2015-12-02</td>\n",
       "      <td>30985.0</td>\n",
       "      <td>5.2125</td>\n",
       "    </tr>\n",
       "    <tr>\n",
       "      <th>8</th>\n",
       "      <td>1</td>\n",
       "      <td>2015-12-03</td>\n",
       "      <td>29985.0</td>\n",
       "      <td>5.1750</td>\n",
       "    </tr>\n",
       "    <tr>\n",
       "      <th>12</th>\n",
       "      <td>1</td>\n",
       "      <td>2015-12-04</td>\n",
       "      <td>21232.5</td>\n",
       "      <td>8.4125</td>\n",
       "    </tr>\n",
       "  </tbody>\n",
       "</table>\n",
       "</div>"
      ],
      "text/plain": [
       "    bat_id  timestamp  active_power  temperature\n",
       "0        1 2015-11-30       26585.0      11.6000\n",
       "2        1 2015-12-01       20115.0      10.9500\n",
       "4        1 2015-12-02       30985.0       5.2125\n",
       "8        1 2015-12-03       29985.0       5.1750\n",
       "12       1 2015-12-04       21232.5       8.4125"
      ]
     },
     "execution_count": 28,
     "metadata": {},
     "output_type": "execute_result"
    }
   ],
   "source": [
    "df_final.head()"
   ]
  },
  {
   "cell_type": "code",
   "execution_count": 29,
   "metadata": {},
   "outputs": [],
   "source": [
    "ids = np.unique(df_final['bat_id'])\n",
    "for i in ids:\n",
    "    df_bat = df_final[df_final['bat_id']==i][['timestamp','active_power','temperature']]\n",
    "    if i < 10:\n",
    "        df_bat.to_csv(path_data+'databat/200{}.csv'.format(i),sep=';',index=False)\n",
    "    elif 10 <= i < 100:\n",
    "        df_bat.to_csv(path_data+'databat/20{}.csv'.format(i),sep=';',index=False)\n",
    "    else:\n",
    "        df_bat.to_csv(path_data+'databat/2{}.csv'.format(i),sep=';',index=False)"
   ]
  },
  {
   "cell_type": "code",
   "execution_count": null,
   "metadata": {},
   "outputs": [],
   "source": []
  }
 ],
 "metadata": {
  "kernelspec": {
   "display_name": "Python 3",
   "language": "python",
   "name": "python3"
  },
  "language_info": {
   "codemirror_mode": {
    "name": "ipython",
    "version": 3
   },
   "file_extension": ".py",
   "mimetype": "text/x-python",
   "name": "python",
   "nbconvert_exporter": "python",
   "pygments_lexer": "ipython3",
   "version": "3.8.3"
  }
 },
 "nbformat": 4,
 "nbformat_minor": 4
}
