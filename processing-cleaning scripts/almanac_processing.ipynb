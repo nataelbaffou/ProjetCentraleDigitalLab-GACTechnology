{
 "cells": [
  {
   "cell_type": "code",
   "execution_count": 1,
   "metadata": {},
   "outputs": [],
   "source": [
    "import pandas as pd\n",
    "import matplotlib.pyplot as plt\n",
    "import numpy as np"
   ]
  },
  {
   "cell_type": "code",
   "execution_count": 28,
   "metadata": {},
   "outputs": [],
   "source": [
    "#TODO change paths if necessary\n",
    "raw_path = \"../data/raw/almanac/\"\n",
    "processed_path = \"../data/processed/almanac/\"\n",
    "power_filename = \"Electricity_P.csv\"\n",
    "weather_filename = \"Climate_HourlyWeather.csv\"\n",
    "\n",
    "building_id = 3000"
   ]
  },
  {
   "cell_type": "code",
   "execution_count": 7,
   "metadata": {},
   "outputs": [],
   "source": [
    "power_df = pd.read_csv(raw_path + power_filename, sep=',', parse_dates=[\"UNIX_TS\"], date_parser=lambda col: pd.to_datetime(col, unit='s'))\n",
    "weather_df = pd.read_csv(raw_path + weather_filename, sep=',', parse_dates=[\"Date/Time\"])"
   ]
  },
  {
   "cell_type": "code",
   "execution_count": 29,
   "metadata": {
    "scrolled": true
   },
   "outputs": [],
   "source": [
    "power_df.rename(columns={\"UNIX_TS\": 'timestamp', \"MHE\": \"active_power\"}, inplace=True)\n",
    "weather_df.rename(columns={\"Date/Time\": 'timestamp', \"Temp (C)\": 'temperature'}, inplace=True)"
   ]
  },
  {
   "cell_type": "code",
   "execution_count": 30,
   "metadata": {},
   "outputs": [],
   "source": [
    "merged_df = power_df[[\"timestamp\", \"active_power\"]].merge(weather_df[['timestamp', 'temperature']])"
   ]
  },
  {
   "cell_type": "code",
   "execution_count": 31,
   "metadata": {},
   "outputs": [],
   "source": [
    "merged_df.interpolate(inplace=True)"
   ]
  },
  {
   "cell_type": "code",
   "execution_count": 32,
   "metadata": {},
   "outputs": [],
   "source": [
    "merged_df.to_csv(processed_path + str(building_id) + \".csv\", sep=';', index=False)"
   ]
  },
  {
   "cell_type": "code",
   "execution_count": 33,
   "metadata": {},
   "outputs": [],
   "source": [
    "days = [\"monday\", \"tuesday\", \"wednesday\", \"thursday\", \"friday\", \"saturday\", \"sunday\"]\n",
    "with open(processed_path + \"metadata.csv\", \"w\") as f:\n",
    "    f.write(\"bat_id;is_house;time_step;lat;long;surface;\")\n",
    "    f.write(\";\".join([e+\"_is_off\" for e in days]) + \"\\n\")\n",
    "    values = map(str, [building_id, True, 1, \"49.247139\", \"-122.950778\", 199, \"\", \"\", \"\", \"\", \"\", \"\", \"\"])\n",
    "    f.write(\";\".join(values) + \"\\n\")"
   ]
  },
  {
   "cell_type": "code",
   "execution_count": null,
   "metadata": {},
   "outputs": [],
   "source": []
  }
 ],
 "metadata": {
  "kernelspec": {
   "display_name": "Python 3",
   "language": "python",
   "name": "python3"
  },
  "language_info": {
   "codemirror_mode": {
    "name": "ipython",
    "version": 3
   },
   "file_extension": ".py",
   "mimetype": "text/x-python",
   "name": "python",
   "nbconvert_exporter": "python",
   "pygments_lexer": "ipython3",
   "version": "3.8.5"
  }
 },
 "nbformat": 4,
 "nbformat_minor": 4
}