{
 "cells": [
  {
   "cell_type": "code",
   "execution_count": 1,
   "metadata": {
    "collapsed": true
   },
   "outputs": [],
   "source": [
    "# univariate multi-step dlm\n",
    "from numpy import array\n",
    "from pandas import read_csv\n",
    "import matplotlib.pyplot as plt\n",
    "from sklearn.preprocessing import MinMaxScaler\n",
    "import pandas as pd\n",
    "import numpy as np\n",
    "\n",
    "from dlmModel import DLM"
   ]
  },
  {
   "cell_type": "code",
   "execution_count": 2,
   "outputs": [
    {
     "name": "stdout",
     "output_type": "stream",
     "text": [
      "Using matplotlib backend: MacOSX\n"
     ]
    }
   ],
   "source": [
    "%matplotlib\n",
    "def plot_results(res, values, filled, last_n_data=None):\n",
    "    res_copy = res.copy()\n",
    "    if last_n_data:\n",
    "        len_data = len(data)\n",
    "        for key in res.keys():\n",
    "            if len(res[key]) == len_data:\n",
    "                res_copy[key] = res[key][-last_n_data:]\n",
    "\n",
    "    data_ = res_copy['data']\n",
    "    predict_n_ = len(res_copy[\"pred_values\"])\n",
    "\n",
    "    # x_data is the list of indices for the training\n",
    "    x_data = [i for i in range(len(data_))]\n",
    "    # x_pred is the list of indices for the test\n",
    "    x_pred = [i for i in range(len(data_), len(data_) + predict_n_)]\n",
    "\n",
    "    plt.figure()\n",
    "    for f in filled:\n",
    "        if len(res[f]) == len(res['data']):\n",
    "            plt.fill_between(x_data, res_copy[f], alpha=0.5)\n",
    "        else:\n",
    "            plt.fill_between(x_pred, res_copy[f], alpha=0.5)\n",
    "    for v in values:\n",
    "        if len(res[v]) == len(res['data']):\n",
    "            plt.plot(x_data, res_copy[v])\n",
    "        else:\n",
    "            plt.plot(x_pred, res_copy[v])\n",
    "    plt.show()"
   ],
   "metadata": {
    "collapsed": false,
    "pycharm": {
     "name": "#%%\n"
    }
   }
  },
  {
   "cell_type": "code",
   "execution_count": 3,
   "outputs": [],
   "source": [
    "# Load files\n",
    "def load_file(path):\n",
    "    return read_csv(path, sep=\";\", header=0, infer_datetime_format=True, parse_dates=['timestamp'], index_col=['timestamp'])"
   ],
   "metadata": {
    "collapsed": false,
    "pycharm": {
     "name": "#%%\n"
    }
   }
  },
  {
   "cell_type": "code",
   "execution_count": 4,
   "outputs": [],
   "source": [
    "# Define dataset to import\n",
    "def get_ids(selection):\n",
    "    ignore_ids = [223, 45, 19, 105, 75, 63, 58, 59]\n",
    "    directory = \"../data/processed/building_forecast/\"\n",
    "    # Get ids\n",
    "    meta = pd.read_csv(directory+\"metadata.csv\", sep=';')\n",
    "    # Use selection\n",
    "    for col in selection:\n",
    "        meta = meta[meta[col] == selection[col]]\n",
    "    # Remove manual ids\n",
    "    return meta[~meta[\"bat_id\"].isin(ignore_ids)]"
   ],
   "metadata": {
    "collapsed": false,
    "pycharm": {
     "name": "#%%\n"
    }
   }
  },
  {
   "cell_type": "code",
   "execution_count": 5,
   "outputs": [],
   "source": [
    "def normalize(data_):\n",
    "    data_ = array(data_)\n",
    "    dims = len(data_.shape)\n",
    "    if dims == 1:\n",
    "        data_ = data_.reshape((len(data_), 1))\n",
    "    scaler = MinMaxScaler(feature_range=(0, 1))\n",
    "    scaler.fit(data_)\n",
    "    if dims == 1:\n",
    "        return scaler.transform(data_).flatten(), scaler\n",
    "    else:\n",
    "        return scaler.transform(data_), scaler"
   ],
   "metadata": {
    "collapsed": false,
    "pycharm": {
     "name": "#%%\n"
    }
   }
  },
  {
   "cell_type": "code",
   "execution_count": 6,
   "outputs": [],
   "source": [
    "def run_dlm(data_, predict_n_, time_step_):\n",
    "    # Parameters\n",
    "    is_trend = True\n",
    "    trend_degree = 1\n",
    "    trend_discount = 0.99\n",
    "\n",
    "    is_seasonality = True\n",
    "    seasonality_period = 7*24*60//time_step_\n",
    "    seasonality_discount = 0.99\n",
    "\n",
    "    is_long_season = False\n",
    "    long_season_n_period = 7\n",
    "    long_season_period_duration = 24*60//time_step_\n",
    "    long_season_discount = 0.99\n",
    "\n",
    "    is_auto_reg = False\n",
    "    auto_reg_degree = 2\n",
    "    auto_reg_discount = 0.99\n",
    "\n",
    "    return DLM(data_,\n",
    "             predict_n=predict_n_,\n",
    "             is_trend=is_trend,\n",
    "             trend_degree=trend_degree,\n",
    "             trend_discount=trend_discount,\n",
    "             is_seasonality=is_seasonality,\n",
    "             seasonality_period=seasonality_period,\n",
    "             seasonality_discount=seasonality_discount,\n",
    "             is_long_season=is_long_season,\n",
    "             long_season_n_period=long_season_n_period,\n",
    "             long_season_period_duration=long_season_period_duration,\n",
    "             long_season_discount=long_season_discount,\n",
    "             is_auto_reg=is_auto_reg,\n",
    "             auto_reg_degree=auto_reg_degree,\n",
    "             auto_reg_discount=auto_reg_discount)"
   ],
   "metadata": {
    "collapsed": false,
    "pycharm": {
     "name": "#%%\n"
    }
   }
  },
  {
   "cell_type": "code",
   "execution_count": 7,
   "outputs": [
    {
     "name": "stdout",
     "output_type": "stream",
     "text": [
      "(3864,) 168 60\n",
      "Initializing models...\n",
      "Initialization finished.\n",
      "Starting forward filtering...\n",
      "Forward filtering completed.\n",
      "Starting backward smoothing...\n",
      "Backward smoothing completed.\n"
     ]
    }
   ],
   "source": [
    "directory = \"../data/processed/building_forecast/\"\n",
    "selection = {'time_step': 60}\n",
    "meta = get_ids(selection)\n",
    "\n",
    "results = []\n",
    "\n",
    "for id_ in [53]:# meta['bat_id'].values:\n",
    "    time_step = int(meta[meta['bat_id'] == id_]['time_step'].values[0])\n",
    "    dataset = load_file(\"{}{}.csv\".format(directory, id_))\n",
    "    data, scaler = normalize(dataset['active_power'])\n",
    "    if len(data) > 6*4*7*24*60//time_step:\n",
    "        data = data[-6*4*7*24*60//time_step:]\n",
    "\n",
    "    predict_n = 7*24*60//time_step\n",
    "\n",
    "    data, validation = data[:-predict_n], data[-predict_n:]\n",
    "    print(data.shape, predict_n, time_step)\n",
    "\n",
    "    results = run_dlm(data, predict_n, time_step)\n",
    "\n",
    "    results['real'] = validation\n",
    "    values = ['data', 'pred_values']\n",
    "    filled = ['real']\n",
    "    plot_results(results, values, filled, predict_n)"
   ],
   "metadata": {
    "collapsed": false,
    "pycharm": {
     "name": "#%%\n"
    }
   }
  },
  {
   "cell_type": "code",
   "execution_count": 14,
   "outputs": [],
   "source": [
    "values = ['fit', 'trend', 'seasonality']\n",
    "filled = ['data']\n",
    "plot_results(results, values, filled, predict_n)"
   ],
   "metadata": {
    "collapsed": false,
    "pycharm": {
     "name": "#%%\n"
    }
   }
  },
  {
   "cell_type": "code",
   "execution_count": null,
   "outputs": [],
   "source": [],
   "metadata": {
    "collapsed": false,
    "pycharm": {
     "name": "#%%\n"
    }
   }
  }
 ],
 "metadata": {
  "kernelspec": {
   "display_name": "Python 3",
   "language": "python",
   "name": "python3"
  },
  "language_info": {
   "codemirror_mode": {
    "name": "ipython",
    "version": 2
   },
   "file_extension": ".py",
   "mimetype": "text/x-python",
   "name": "python",
   "nbconvert_exporter": "python",
   "pygments_lexer": "ipython2",
   "version": "2.7.6"
  }
 },
 "nbformat": 4,
 "nbformat_minor": 0
}