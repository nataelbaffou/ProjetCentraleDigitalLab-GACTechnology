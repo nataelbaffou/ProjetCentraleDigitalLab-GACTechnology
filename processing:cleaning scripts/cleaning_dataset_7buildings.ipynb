{
 "cells": [
  {
   "cell_type": "markdown",
   "metadata": {},
   "source": [
    "# Data cleaning of the 7 buildings dataset"
   ]
  },
  {
   "cell_type": "code",
   "execution_count": null,
   "metadata": {},
   "outputs": [],
   "source": [
    "import numpy as np\n",
    "import pandas as pd\n",
    "import matplotlib.pyplot as plt\n",
    "import datetime\n",
    "import os"
   ]
  },
  {
   "cell_type": "code",
   "execution_count": 2,
   "metadata": {},
   "outputs": [],
   "source": [
    "path_data = 'C:/Users/Orson/Documents/Digital_Lab/Projet_GAC/Datasets/7buildings/'"
   ]
  },
  {
   "cell_type": "markdown",
   "metadata": {},
   "source": [
    "## Creating each building consumption file"
   ]
  },
  {
   "cell_type": "code",
   "execution_count": 3,
   "metadata": {},
   "outputs": [],
   "source": [
    "def dateparse (timestamp): \n",
    "    return datetime.datetime.strptime(timestamp,'%m/%d/%Y %H:%M')"
   ]
  },
  {
   "cell_type": "code",
   "execution_count": 4,
   "metadata": {},
   "outputs": [],
   "source": [
    "list_filenames = []\n",
    "for filename in os.listdir(path_data+'original'):\n",
    "    list_filenames.append(filename)"
   ]
  },
  {
   "cell_type": "code",
   "execution_count": 5,
   "metadata": {},
   "outputs": [],
   "source": [
    "for i in range(5):\n",
    "    filename = list_filenames[i]\n",
    "    df = pd.read_csv(path_data + 'original/' + filename,sep = ',',\n",
    "                     parse_dates = ['Timestamp'],\n",
    "                     date_parser = dateparse)\n",
    "    df = df.dropna(how='all')\n",
    "    df = df.rename(columns={'Timestamp':'timestamp','OAT (F)':'temperature','Power (kW)':'active_power'})\\\n",
    "                        .reindex(columns=['timestamp','active_power','temperature'])\n",
    "    df['active_power'] = df['active_power'].apply(lambda x: x/1000)\n",
    "    df.to_csv('C:/Users/Orson/Documents/Digital_Lab/Projet_GAC/Datasets/7buildings/100{}.csv'.format(i+1),sep=';',index=False)"
   ]
  },
  {
   "cell_type": "code",
   "execution_count": 6,
   "metadata": {},
   "outputs": [],
   "source": [
    "dfs = []\n",
    "for i in range(5,8):\n",
    "    df = pd.read_csv(path_data + 'original/' +  list_filenames[i],sep=',')\n",
    "    df = df.dropna(how='all')\n",
    "    df['Date'] = df['Date'].apply((lambda x: dateparse(x)))\n",
    "    dfs.append(df)"
   ]
  },
  {
   "cell_type": "code",
   "execution_count": 7,
   "metadata": {},
   "outputs": [],
   "source": [
    "df = pd.concat(dfs)\n",
    "df = df.rename(columns={'Date':'timestamp','OAT':'temperature','Building 6 kW':'active_power'})\\\n",
    "                        .reindex(columns=['timestamp','active_power','temperature'])\n",
    "df['active_power'] = df['active_power'].apply(lambda x: x/1000)"
   ]
  },
  {
   "cell_type": "code",
   "execution_count": 9,
   "metadata": {},
   "outputs": [],
   "source": [
    "df.to_csv(path_data + '1006.csv',sep=';',index=False)"
   ]
  },
  {
   "cell_type": "code",
   "execution_count": 10,
   "metadata": {},
   "outputs": [],
   "source": [
    "dfs = []\n",
    "for i in range(8,11):\n",
    "    df = pd.read_csv(path_data + 'original/' +  list_filenames[i],sep=',')\n",
    "    df = df.dropna(how='all')\n",
    "    df['Date'] = df['Date'].apply((lambda x: dateparse(x)))\n",
    "    dfs.append(df)"
   ]
  },
  {
   "cell_type": "code",
   "execution_count": 11,
   "metadata": {},
   "outputs": [],
   "source": [
    "df = pd.concat(dfs)\n",
    "df = df.rename(columns={'Date':'timestamp','OAT':'temperature','Building 7 kW':'active_power'})\\\n",
    "                        .reindex(columns=['timestamp','active_power','temperature'])\n",
    "df['active_power'] = df['active_power'].apply(lambda x: x/1000)"
   ]
  },
  {
   "cell_type": "code",
   "execution_count": 12,
   "metadata": {},
   "outputs": [],
   "source": [
    "df.to_csv(path_data+'1007.csv',sep=';',index=False)"
   ]
  },
  {
   "cell_type": "markdown",
   "metadata": {},
   "source": [
    "## Creating metadata file"
   ]
  },
  {
   "cell_type": "code",
   "execution_count": 52,
   "metadata": {},
   "outputs": [],
   "source": [
    "metadata1000 = pd.DataFrame(columns=['bat_id','is_house','time_step','lat','long','surface',\n",
    "                                     'monday_is_off',\n",
    "                                     'tuesday_is_off',\n",
    "                                     'wednesday_is_off',\n",
    "                                     'thursday_is_off',\n",
    "                                     'friday_is_off',\n",
    "                                     'saturday_is_off',\n",
    "                                     'sunday_is_off'\n",
    "                                    ])\n",
    "\n",
    "for i in range(8):\n",
    "    if i < 6:\n",
    "        metadata1000 = metadata1000.append({'bat_id':1000+i,\n",
    "                        'is_house':False,\n",
    "                        'time_step':15,\n",
    "                        'lat':np.nan,\n",
    "                        'long':np.nan,\n",
    "                        'surface':np.nan,\n",
    "                        'monday_is_off':np.nan,\n",
    "                        'tuesday_is_off':np.nan,\n",
    "                        'wednesday_is_off':np.nan,\n",
    "                        'thursday_is_off':np.nan,\n",
    "                        'friday_is_off':np.nan,\n",
    "                        'saturday_is_off':np.nan,\n",
    "                        'sunday_is_off':np.nan\n",
    "                        },ignore_index=True\n",
    "                       )\n",
    "    else:\n",
    "        metadata1000 = metadata1000.append({'bat_id':1000+i,\n",
    "                            'is_house':False,\n",
    "                            'time_step':60,\n",
    "                            'lat':np.nan,\n",
    "                            'long':np.nan,\n",
    "                            'surface':np.nan,\n",
    "                            'monday_is_off':np.nan,\n",
    "                            'tuesday_is_off':np.nan,\n",
    "                            'wednesday_is_off':np.nan,\n",
    "                            'thursday_is_off':np.nan,\n",
    "                            'friday_is_off':np.nan,\n",
    "                            'saturday_is_off':np.nan,\n",
    "                            'sunday_is_off':np.nan\n",
    "                            },ignore_index=True\n",
    "                           )\n",
    "metadata1000 = metadata1000.set_index('bat_id')"
   ]
  },
  {
   "cell_type": "code",
   "execution_count": 54,
   "metadata": {},
   "outputs": [],
   "source": [
    "metadata1000.to_csv(path_data+'metadata1000.csv')"
   ]
  }
 ],
 "metadata": {
  "kernelspec": {
   "display_name": "Python 3",
   "language": "python",
   "name": "python3"
  },
  "language_info": {
   "codemirror_mode": {
    "name": "ipython",
    "version": 3
   },
   "file_extension": ".py",
   "mimetype": "text/x-python",
   "name": "python",
   "nbconvert_exporter": "python",
   "pygments_lexer": "ipython3",
   "version": "3.8.3"
  }
 },
 "nbformat": 4,
 "nbformat_minor": 4
}
