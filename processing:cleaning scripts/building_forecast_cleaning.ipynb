{
 "cells": [
  {
   "cell_type": "code",
   "execution_count": 16,
   "metadata": {
    "collapsed": true
   },
   "outputs": [],
   "source": [
    "import pandas as pd\n",
    "import numpy as np\n",
    "import os\n",
    "import re"
   ]
  },
  {
   "cell_type": "code",
   "execution_count": 17,
   "outputs": [],
   "source": [
    "# Pathing\n",
    "processed_path = \"../data/processed/building_forecast/\""
   ],
   "metadata": {
    "collapsed": false,
    "pycharm": {
     "name": "#%%\n"
    }
   }
  },
  {
   "cell_type": "code",
   "execution_count": 36,
   "outputs": [],
   "source": [
    "def clean_values(df, columns):\n",
    "    nb_step = int(7*24*60*60 // (df[\"timestamp\"][1] - df['timestamp'][0]).total_seconds())\n",
    "    df_cleaned = df.copy()\n",
    "    success = True\n",
    "    for column in columns:\n",
    "        values = df_cleaned[column].values\n",
    "        for i, value in enumerate(values):\n",
    "            if pd.isna(value):\n",
    "                if i >= nb_step and not pd.isna(values[i-nb_step]):\n",
    "                    values[i] = values[i-nb_step]\n",
    "                elif i+nb_step < len(values) and not pd.isna(values[i+nb_step]):\n",
    "                    values[i] = values[i+nb_step]\n",
    "                else:\n",
    "                    success = False\n",
    "                    print(\"Can't easily remove na values line {}\".format(i))\n",
    "        df_cleaned[column] = values\n",
    "    return df_cleaned, success\n"
   ],
   "metadata": {
    "collapsed": false,
    "pycharm": {
     "name": "#%%\n"
    }
   }
  },
  {
   "cell_type": "code",
   "execution_count": 38,
   "outputs": [
    {
     "name": "stdout",
     "output_type": "stream",
     "text": [
      "Can't easily remove na values line 14\n",
      "Can't easily remove na values line 15\n",
      "Can't easily remove na values line 16\n",
      "Can't easily remove na values line 17\n",
      "Can't easily remove na values line 18\n",
      "Can't easily remove na values line 19\n",
      "Can't easily remove na values line 20\n",
      "Can't easily remove na values line 21\n",
      "Can't easily remove na values line 22\n",
      "Can't easily remove na values line 23\n",
      "Can't easily remove na values line 24\n",
      "Can't easily remove na values line 25\n",
      "Can't easily remove na values line 26\n",
      "Can't easily remove na values line 27\n",
      "Can't easily remove na values line 28\n",
      "Can't easily remove na values line 29\n",
      "Can't easily remove na values line 30\n",
      "Can't easily remove na values line 31\n",
      "Can't easily remove na values line 32\n",
      "Can't easily remove na values line 33\n",
      "Can't easily remove na values line 34\n",
      "Can't easily remove na values line 35\n",
      "Can't easily remove na values line 36\n",
      "Can't easily remove na values line 37\n",
      "Can't easily remove na values line 38\n",
      "Can't easily remove na values line 39\n",
      "Can't easily remove na values line 40\n",
      "Can't easily remove na values line 41\n",
      "Can't easily remove na values line 42\n",
      "Can't easily remove na values line 43\n",
      "Can't easily remove na values line 44\n",
      "Can't easily remove na values line 45\n",
      "Can't easily remove na values line 46\n",
      "Can't easily remove na values line 47\n",
      "Can't easily remove na values line 48\n",
      "Can't easily remove na values line 49\n",
      "Can't easily remove na values line 50\n",
      "Can't easily remove na values line 51\n",
      "Can't easily remove na values line 52\n",
      "Can't easily remove na values line 53\n",
      "Can't easily remove na values line 54\n",
      "Can't easily remove na values line 55\n",
      "Can't easily remove na values line 56\n",
      "Can't easily remove na values line 57\n",
      "Can't easily remove na values line 58\n",
      "Can't easily remove na values line 59\n",
      "Can't easily remove na values line 60\n",
      "Can't easily remove na values line 61\n",
      "Can't easily remove na values line 62\n",
      "Can't easily remove na values line 63\n",
      "Can't easily remove na values line 64\n",
      "Can't easily remove na values line 65\n",
      "Can't easily remove na values line 66\n",
      "Can't easily remove na values line 67\n",
      "Can't easily remove na values line 68\n",
      "Can't easily remove na values line 69\n",
      "Can't easily remove na values line 70\n",
      "Can't easily remove na values line 71\n",
      "Can't easily remove na values line 72\n",
      "Can't easily remove na values line 73\n",
      "Can't easily remove na values line 74\n",
      "Can't easily remove na values line 75\n",
      "Can't easily remove na values line 76\n",
      "Can't easily remove na values line 77\n",
      "Can't easily remove na values line 78\n",
      "Can't easily remove na values line 79\n",
      "Can't easily remove na values line 80\n",
      "Can't easily remove na values line 81\n",
      "Can't easily remove na values line 82\n",
      "Can't easily remove na values line 83\n",
      "Can't easily remove na values line 84\n",
      "Can't easily remove na values line 85\n",
      "Can't easily remove na values line 86\n",
      "Can't easily remove na values line 87\n",
      "Can't easily remove na values line 88\n",
      "Can't easily remove na values line 89\n",
      "Can't easily remove na values line 90\n",
      "Can't easily remove na values line 91\n",
      "Can't easily remove na values line 92\n",
      "Can't easily remove na values line 93\n",
      "Can't easily remove na values line 94\n",
      "Can't easily remove na values line 95\n",
      "Can't easily remove na values line 96\n",
      "Can't easily remove na values line 97\n",
      "Can't easily remove na values line 98\n",
      "Can't easily remove na values line 99\n",
      "Can't easily remove na values line 100\n",
      "Can't easily remove na values line 101\n",
      "Can't easily remove na values line 102\n",
      "Can't easily remove na values line 103\n",
      "Can't easily remove na values line 104\n",
      "Can't easily remove na values line 105\n",
      "Can't easily remove na values line 106\n",
      "Can't easily remove na values line 107\n",
      "Can't easily remove na values line 108\n",
      "Can't easily remove na values line 109\n",
      "Can't easily remove na values line 110\n",
      "Can't easily remove na values line 111\n",
      "Can't easily remove na values line 112\n",
      "Can't easily remove na values line 113\n",
      "Can't easily remove na values line 114\n",
      "Can't easily remove na values line 115\n",
      "Can't easily remove na values line 116\n",
      "Can't easily remove na values line 117\n",
      "Can't easily remove na values line 118\n",
      "Can't easily remove na values line 119\n",
      "Can't easily remove na values line 120\n",
      "Can't easily remove na values line 121\n",
      "Can't easily remove na values line 122\n",
      "Can't easily remove na values line 123\n",
      "Can't easily remove na values line 124\n",
      "Can't easily remove na values line 125\n",
      "Can't easily remove na values line 126\n",
      "Can't easily remove na values line 127\n",
      "Can't easily remove na values line 128\n",
      "Can't easily remove na values line 129\n",
      "Can't easily remove na values line 130\n",
      "Can't easily remove na values line 218\n",
      "Can't easily remove na values line 219\n",
      "Can't easily remove na values line 268\n",
      "file 223.csv is not cleaned entirely\n",
      "Can't easily remove na values line 61\n",
      "Can't easily remove na values line 62\n",
      "file 45.csv is not cleaned entirely\n",
      "Can't easily remove na values line 9\n",
      "Can't easily remove na values line 10\n",
      "Can't easily remove na values line 11\n",
      "file 19.csv is not cleaned entirely\n",
      "Can't easily remove na values line 620\n",
      "Can't easily remove na values line 621\n",
      "file 105.csv is not cleaned entirely\n",
      "Can't easily remove na values line 427\n",
      "Can't easily remove na values line 428\n",
      "Can't easily remove na values line 1099\n",
      "Can't easily remove na values line 1100\n",
      "file 75.csv is not cleaned entirely\n",
      "Can't easily remove na values line 519\n",
      "Can't easily remove na values line 520\n",
      "file 63.csv is not cleaned entirely\n",
      "Can't easily remove na values line 5\n",
      "file 58.csv is not cleaned entirely\n",
      "Can't easily remove na values line 623\n",
      "Can't easily remove na values line 624\n",
      "file 59.csv is not cleaned entirely\n"
     ]
    }
   ],
   "source": [
    "columns = ['active_power']\n",
    "for file in os.listdir(processed_path):\n",
    "    if re.fullmatch(\"^[0-9]+.csv\", file):\n",
    "        csv = pd.read_csv(processed_path+file, sep=\";\", parse_dates=[\"timestamp\"])\n",
    "        csv_cleaned, ret = clean_values(csv, columns)\n",
    "        if ret is False:\n",
    "            print(\"file {} is not cleaned entirely\".format(file))\n",
    "        csv_cleaned.to_csv(processed_path+file, sep=\";\", index=False)"
   ],
   "metadata": {
    "collapsed": false,
    "pycharm": {
     "name": "#%%\n"
    }
   }
  },
  {
   "cell_type": "code",
   "execution_count": null,
   "outputs": [],
   "source": [],
   "metadata": {
    "collapsed": false,
    "pycharm": {
     "name": "#%%\n"
    }
   }
  }
 ],
 "metadata": {
  "kernelspec": {
   "display_name": "Python 3",
   "language": "python",
   "name": "python3"
  },
  "language_info": {
   "codemirror_mode": {
    "name": "ipython",
    "version": 2
   },
   "file_extension": ".py",
   "mimetype": "text/x-python",
   "name": "python",
   "nbconvert_exporter": "python",
   "pygments_lexer": "ipython2",
   "version": "2.7.6"
  }
 },
 "nbformat": 4,
 "nbformat_minor": 0
}